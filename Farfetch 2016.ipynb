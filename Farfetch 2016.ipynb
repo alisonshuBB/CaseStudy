{
 "cells": [
  {
   "cell_type": "code",
   "execution_count": null,
   "metadata": {},
   "outputs": [],
   "source": [
    "# session initialization "
   ]
  },
  {
   "cell_type": "code",
   "execution_count": 1,
   "metadata": {},
   "outputs": [
    {
     "data": {
      "text/html": [
       "'LC_COLLATE=English_United States.1252;LC_CTYPE=English_United States.1252;LC_MONETARY=English_United States.1252;LC_NUMERIC=C;LC_TIME=English_United States.1252'"
      ],
      "text/latex": [
       "'LC\\_COLLATE=English\\_United States.1252;LC\\_CTYPE=English\\_United States.1252;LC\\_MONETARY=English\\_United States.1252;LC\\_NUMERIC=C;LC\\_TIME=English\\_United States.1252'"
      ],
      "text/markdown": [
       "'LC_COLLATE=English_United States.1252;LC_CTYPE=English_United States.1252;LC_MONETARY=English_United States.1252;LC_NUMERIC=C;LC_TIME=English_United States.1252'"
      ],
      "text/plain": [
       "[1] \"LC_COLLATE=English_United States.1252;LC_CTYPE=English_United States.1252;LC_MONETARY=English_United States.1252;LC_NUMERIC=C;LC_TIME=English_United States.1252\""
      ]
     },
     "metadata": {},
     "output_type": "display_data"
    }
   ],
   "source": [
    "rm(list=ls())\n",
    "Sys.setlocale(category = \"LC_ALL\",locale = \"English_United States.1252\")"
   ]
  },
  {
   "cell_type": "code",
   "execution_count": 2,
   "metadata": {
    "collapsed": true
   },
   "outputs": [
    {
     "name": "stderr",
     "output_type": "stream",
     "text": [
      "\n",
      "Attaching package: 'dplyr'\n",
      "\n",
      "The following objects are masked from 'package:stats':\n",
      "\n",
      "    filter, lag\n",
      "\n",
      "The following objects are masked from 'package:base':\n",
      "\n",
      "    intersect, setdiff, setequal, union\n",
      "\n",
      "Loading required package: grid\n",
      "Loading required package: mvtnorm\n",
      "Loading required package: modeltools\n",
      "Loading required package: stats4\n",
      "Loading required package: strucchange\n",
      "Loading required package: zoo\n",
      "\n",
      "Attaching package: 'zoo'\n",
      "\n",
      "The following objects are masked from 'package:base':\n",
      "\n",
      "    as.Date, as.Date.numeric\n",
      "\n",
      "Loading required package: sandwich\n"
     ]
    }
   ],
   "source": [
    "library(openxlsx)\n",
    "library(dplyr)\n",
    "library(ggplot2)\n",
    "library(party)"
   ]
  },
  {
   "cell_type": "code",
   "execution_count": null,
   "metadata": {},
   "outputs": [],
   "source": [
    "#load data file and do necessary transformation to generate dataframe df.factor"
   ]
  },
  {
   "cell_type": "code",
   "execution_count": 3,
   "metadata": {},
   "outputs": [],
   "source": [
    "filepath <- 'C:/Users/aliso/Desktop/study/'\n",
    "filename <- 'Lead Data Analyst.xlsx'\n",
    "df <- read.xlsx(paste(filepath,filename,sep=\"\"),sheet=1,colNames=T)"
   ]
  },
  {
   "cell_type": "code",
   "execution_count": 4,
   "metadata": {},
   "outputs": [
    {
     "name": "stdout",
     "output_type": "stream",
     "text": [
      "'data.frame':\t155988 obs. of  18 variables:\n",
      " $ weeknumberbyyear          : chr  \"2016-01\" \"2016-01\" \"2016-01\" \"2016-01\" ...\n",
      " $ TrafficSourceType         : chr  \"Affiliates\" \"Affiliates\" \"Affiliates\" \"Affiliates\" ...\n",
      " $ Device                    : chr  \"Desktop\" \"Desktop\" \"Desktop\" \"Desktop\" ...\n",
      " $ VisitorType               : chr  \"New\" \"New\" \"New\" \"New\" ...\n",
      " $ NonBounceVisit            : chr  \"Yes\" \"Yes\" \"Yes\" \"Yes\" ...\n",
      " $ HomePageWasVisited        : chr  \"No\" \"No\" \"No\" \"No\" ...\n",
      " $ ProductPageWasVisited     : chr  \"No\" \"No\" \"Yes\" \"Yes\" ...\n",
      " $ VisitToProductAfterListing: chr  \"No\" \"No\" \"No\" \"No\" ...\n",
      " $ SiteSearchWasUsed         : chr  \"No\" \"No\" \"No\" \"No\" ...\n",
      " $ VisitWithAddtoBag         : chr  \"No\" \"Yes\" \"No\" \"No\" ...\n",
      " $ VisitWithAddtoWishlist    : chr  \"No\" \"No\" \"No\" \"No\" ...\n",
      " $ ShippingAddressWasVisited : chr  \"No\" \"No\" \"No\" \"No\" ...\n",
      " $ PaymentPageWasVisited     : chr  \"No\" \"No\" \"No\" \"Yes\" ...\n",
      " $ ReviewOrderPageWasVisited : chr  \"No\" \"No\" \"No\" \"No\" ...\n",
      " $ ConfirmationPageWasVisited: chr  \"No\" \"No\" \"No\" \"No\" ...\n",
      " $ Visits                    : num  9 1 1639 1 4 ...\n",
      " $ Revenue                   : num  0 0 0 0 354 ...\n",
      " $ Orders                    : num  0 0 0 0 1 0 0 3 0 0 ...\n"
     ]
    }
   ],
   "source": [
    "str(df)"
   ]
  },
  {
   "cell_type": "code",
   "execution_count": 5,
   "metadata": {},
   "outputs": [
    {
     "data": {
      "text/html": [
       "<ol class=list-inline>\n",
       "\t<li>155988</li>\n",
       "\t<li>18</li>\n",
       "</ol>\n"
      ],
      "text/latex": [
       "\\begin{enumerate*}\n",
       "\\item 155988\n",
       "\\item 18\n",
       "\\end{enumerate*}\n"
      ],
      "text/markdown": [
       "1. 155988\n",
       "2. 18\n",
       "\n",
       "\n"
      ],
      "text/plain": [
       "[1] 155988     18"
      ]
     },
     "metadata": {},
     "output_type": "display_data"
    }
   ],
   "source": [
    "dim(df)"
   ]
  },
  {
   "cell_type": "code",
   "execution_count": 6,
   "metadata": {},
   "outputs": [
    {
     "data": {
      "text/html": [
       "<ol class=list-inline>\n",
       "\t<li>'Visits'</li>\n",
       "\t<li>'Revenue'</li>\n",
       "\t<li>'Orders'</li>\n",
       "</ol>\n"
      ],
      "text/latex": [
       "\\begin{enumerate*}\n",
       "\\item 'Visits'\n",
       "\\item 'Revenue'\n",
       "\\item 'Orders'\n",
       "\\end{enumerate*}\n"
      ],
      "text/markdown": [
       "1. 'Visits'\n",
       "2. 'Revenue'\n",
       "3. 'Orders'\n",
       "\n",
       "\n"
      ],
      "text/plain": [
       "[1] \"Visits\"  \"Revenue\" \"Orders\" "
      ]
     },
     "metadata": {},
     "output_type": "display_data"
    },
    {
     "data": {
      "text/html": [
       "<ol class=list-inline>\n",
       "\t<li>'weeknumberbyyear'</li>\n",
       "\t<li>'TrafficSourceType'</li>\n",
       "\t<li>'Device'</li>\n",
       "\t<li>'VisitorType'</li>\n",
       "\t<li>'NonBounceVisit'</li>\n",
       "\t<li>'HomePageWasVisited'</li>\n",
       "\t<li>'ProductPageWasVisited'</li>\n",
       "\t<li>'VisitToProductAfterListing'</li>\n",
       "\t<li>'SiteSearchWasUsed'</li>\n",
       "\t<li>'VisitWithAddtoBag'</li>\n",
       "\t<li>'VisitWithAddtoWishlist'</li>\n",
       "\t<li>'ShippingAddressWasVisited'</li>\n",
       "\t<li>'PaymentPageWasVisited'</li>\n",
       "\t<li>'ReviewOrderPageWasVisited'</li>\n",
       "\t<li>'ConfirmationPageWasVisited'</li>\n",
       "</ol>\n"
      ],
      "text/latex": [
       "\\begin{enumerate*}\n",
       "\\item 'weeknumberbyyear'\n",
       "\\item 'TrafficSourceType'\n",
       "\\item 'Device'\n",
       "\\item 'VisitorType'\n",
       "\\item 'NonBounceVisit'\n",
       "\\item 'HomePageWasVisited'\n",
       "\\item 'ProductPageWasVisited'\n",
       "\\item 'VisitToProductAfterListing'\n",
       "\\item 'SiteSearchWasUsed'\n",
       "\\item 'VisitWithAddtoBag'\n",
       "\\item 'VisitWithAddtoWishlist'\n",
       "\\item 'ShippingAddressWasVisited'\n",
       "\\item 'PaymentPageWasVisited'\n",
       "\\item 'ReviewOrderPageWasVisited'\n",
       "\\item 'ConfirmationPageWasVisited'\n",
       "\\end{enumerate*}\n"
      ],
      "text/markdown": [
       "1. 'weeknumberbyyear'\n",
       "2. 'TrafficSourceType'\n",
       "3. 'Device'\n",
       "4. 'VisitorType'\n",
       "5. 'NonBounceVisit'\n",
       "6. 'HomePageWasVisited'\n",
       "7. 'ProductPageWasVisited'\n",
       "8. 'VisitToProductAfterListing'\n",
       "9. 'SiteSearchWasUsed'\n",
       "10. 'VisitWithAddtoBag'\n",
       "11. 'VisitWithAddtoWishlist'\n",
       "12. 'ShippingAddressWasVisited'\n",
       "13. 'PaymentPageWasVisited'\n",
       "14. 'ReviewOrderPageWasVisited'\n",
       "15. 'ConfirmationPageWasVisited'\n",
       "\n",
       "\n"
      ],
      "text/plain": [
       " [1] \"weeknumberbyyear\"           \"TrafficSourceType\"         \n",
       " [3] \"Device\"                     \"VisitorType\"               \n",
       " [5] \"NonBounceVisit\"             \"HomePageWasVisited\"        \n",
       " [7] \"ProductPageWasVisited\"      \"VisitToProductAfterListing\"\n",
       " [9] \"SiteSearchWasUsed\"          \"VisitWithAddtoBag\"         \n",
       "[11] \"VisitWithAddtoWishlist\"     \"ShippingAddressWasVisited\" \n",
       "[13] \"PaymentPageWasVisited\"      \"ReviewOrderPageWasVisited\" \n",
       "[15] \"ConfirmationPageWasVisited\""
      ]
     },
     "metadata": {},
     "output_type": "display_data"
    }
   ],
   "source": [
    "idx.num <- which(sapply(df,is.numeric))\n",
    "idx.char <- which(sapply(df,is.character))\n",
    "names(idx.num)\n",
    "names(idx.char)\n",
    "\n",
    "## note:\n",
    "## data structure: 3 numeric variables & 15 char variables; 15 char incl. 14 factors and 1 weekdate; will add 3 derived variables: week, CoR, AoV"
   ]
  },
  {
   "cell_type": "code",
   "execution_count": 7,
   "metadata": {},
   "outputs": [],
   "source": [
    "df.factor <-df"
   ]
  },
  {
   "cell_type": "code",
   "execution_count": 8,
   "metadata": {},
   "outputs": [],
   "source": [
    "# define factor\n",
    "for (i in (2:4)){\n",
    "        x<-names(idx.char)[i]\n",
    "        df.factor[,x] <- factor(df.factor[,x])\n",
    "}\n",
    "\n",
    "for (i in (5:15)){\n",
    "        x<-names(idx.char)[i]\n",
    "        df.factor[,x]<- ifelse(df.factor[,x]==\"No\",0,1)\n",
    "        df.factor[,x] <- factor(df.factor[,x],levels=c(0,1),labels=c(\"No\",\"Yes\"))\n",
    "}"
   ]
  },
  {
   "cell_type": "code",
   "execution_count": 9,
   "metadata": {},
   "outputs": [],
   "source": [
    "#create derived variables CoR, AoV\n",
    "df.factor$week<-ifelse(df.factor$weeknumberbyyear==\"2017-01\",54,as.numeric(substr(df.factor$weeknumberbyyear,6,7)))\n",
    "df.factor$CoR <- df.factor$Orders/df.factor$Visits\n",
    "df.factor$AoV <- df.factor$Revenue/df.factor$Orders"
   ]
  },
  {
   "cell_type": "code",
   "execution_count": 10,
   "metadata": {},
   "outputs": [
    {
     "name": "stdout",
     "output_type": "stream",
     "text": [
      "'data.frame':\t155988 obs. of  21 variables:\n",
      " $ weeknumberbyyear          : chr  \"2016-01\" \"2016-01\" \"2016-01\" \"2016-01\" ...\n",
      " $ TrafficSourceType         : Factor w/ 8 levels \"Affiliates\",\"Direct\",..: 1 1 1 1 1 1 1 1 1 1 ...\n",
      " $ Device                    : Factor w/ 3 levels \"Desktop\",\"Mobile\",..: 1 1 1 1 1 1 1 1 1 1 ...\n",
      " $ VisitorType               : Factor w/ 2 levels \"New\",\"Returning\": 1 1 1 1 1 1 1 1 1 1 ...\n",
      " $ NonBounceVisit            : Factor w/ 2 levels \"No\",\"Yes\": 2 2 2 2 2 2 2 2 2 2 ...\n",
      " $ HomePageWasVisited        : Factor w/ 2 levels \"No\",\"Yes\": 1 1 1 1 1 1 1 1 1 1 ...\n",
      " $ ProductPageWasVisited     : Factor w/ 2 levels \"No\",\"Yes\": 1 1 2 2 2 2 2 2 2 2 ...\n",
      " $ VisitToProductAfterListing: Factor w/ 2 levels \"No\",\"Yes\": 1 1 1 1 1 1 1 1 1 1 ...\n",
      " $ SiteSearchWasUsed         : Factor w/ 2 levels \"No\",\"Yes\": 1 1 1 1 1 1 1 1 2 2 ...\n",
      " $ VisitWithAddtoBag         : Factor w/ 2 levels \"No\",\"Yes\": 1 2 1 1 1 2 2 2 1 2 ...\n",
      " $ VisitWithAddtoWishlist    : Factor w/ 2 levels \"No\",\"Yes\": 1 1 1 1 1 1 1 1 2 1 ...\n",
      " $ ShippingAddressWasVisited : Factor w/ 2 levels \"No\",\"Yes\": 1 1 1 1 2 1 1 1 1 1 ...\n",
      " $ PaymentPageWasVisited     : Factor w/ 2 levels \"No\",\"Yes\": 1 1 1 2 2 1 2 2 1 1 ...\n",
      " $ ReviewOrderPageWasVisited : Factor w/ 2 levels \"No\",\"Yes\": 1 1 1 1 2 1 1 2 1 1 ...\n",
      " $ ConfirmationPageWasVisited: Factor w/ 2 levels \"No\",\"Yes\": 1 1 1 1 2 1 1 2 1 1 ...\n",
      " $ Visits                    : num  9 1 1639 1 4 ...\n",
      " $ Revenue                   : num  0 0 0 0 354 ...\n",
      " $ Orders                    : num  0 0 0 0 1 0 0 3 0 0 ...\n",
      " $ week                      : num  1 1 1 1 1 1 1 1 1 1 ...\n",
      " $ CoR                       : num  0 0 0 0 0.25 0 0 1 0 0 ...\n",
      " $ AoV                       : num  NaN NaN NaN NaN 354 ...\n"
     ]
    }
   ],
   "source": [
    "str(df.factor)"
   ]
  },
  {
   "cell_type": "code",
   "execution_count": 11,
   "metadata": {},
   "outputs": [
    {
     "data": {
      "text/html": [
       "<ol class=list-inline>\n",
       "\t<li>155988</li>\n",
       "\t<li>21</li>\n",
       "</ol>\n"
      ],
      "text/latex": [
       "\\begin{enumerate*}\n",
       "\\item 155988\n",
       "\\item 21\n",
       "\\end{enumerate*}\n"
      ],
      "text/markdown": [
       "1. 155988\n",
       "2. 21\n",
       "\n",
       "\n"
      ],
      "text/plain": [
       "[1] 155988     21"
      ]
     },
     "metadata": {},
     "output_type": "display_data"
    }
   ],
   "source": [
    "dim(df.factor)"
   ]
  },
  {
   "cell_type": "code",
   "execution_count": 12,
   "metadata": {},
   "outputs": [
    {
     "data": {
      "text/html": [
       "<ol class=list-inline>\n",
       "\t<li>5308416</li>\n",
       "\t<li>15</li>\n",
       "</ol>\n"
      ],
      "text/latex": [
       "\\begin{enumerate*}\n",
       "\\item 5308416\n",
       "\\item 15\n",
       "\\end{enumerate*}\n"
      ],
      "text/markdown": [
       "1. 5308416\n",
       "2. 15\n",
       "\n",
       "\n"
      ],
      "text/plain": [
       "[1] 5308416      15"
      ]
     },
     "metadata": {},
     "output_type": "display_data"
    }
   ],
   "source": [
    "c(54 * 8 * 3 * 2^12,15)\n",
    "\n",
    "## not all the levels of factors will appear per week"
   ]
  },
  {
   "cell_type": "code",
   "execution_count": null,
   "metadata": {},
   "outputs": [],
   "source": [
    "#data explore"
   ]
  },
  {
   "cell_type": "code",
   "execution_count": 13,
   "metadata": {},
   "outputs": [],
   "source": [
    "#user function\n",
    "mySummary <- function(x){\n",
    "    summary(df.factor[,x])\n",
    "}\n",
    "myHist <- function(x) {\n",
    "    hist(df.factor[,x],main=NULL,xlab=x,breaks=50)\n",
    "}\n",
    "\n",
    "myBoxplot <- function(x) {\n",
    "    boxplot(df.factor[,x],main=NULL,xlab=x)\n",
    "}\n",
    "myTable <- function(x){\n",
    "    V <- sort(100* round(prop.table(xtabs(Visits~df.factor[,x],df.factor)),digits=4),decreasing=T) # Visits, Orders, Revenue\n",
    "    O <- sort(100* round(prop.table(xtabs(Orders~df.factor[,x],df.factor)),digits=4),decreasing=T)\n",
    "    R <- sort(100* round(prop.table(xtabs(Revenue~df.factor[,x],df.factor)),digits=4),decreasing=T)\n",
    "    print(x)\n",
    "    print(\"Visits:\");print(V)\n",
    "    print(\"Orders\");print(O)\n",
    "    print(\"Revenue:\");print(R)\n",
    "}\n",
    "myPie <- function(x,y){\n",
    "    myPt <- 100 * round(prop.table(xtabs(df.factor[,y]~df.factor[,x],df.factor)),digits=4) # Visits, Orders, Revenue\n",
    "    myLabels <- paste(names(myPt),\"\\n\",myPt,\"%\",sep=\"\")\n",
    "    pie(myPt,labels=myLabels,cex=.8,main=y)\n",
    "}"
   ]
  },
  {
   "cell_type": "code",
   "execution_count": 14,
   "metadata": {},
   "outputs": [
    {
     "data": {
      "text/html": [
       "<table>\n",
       "<thead><tr><th></th><th scope=col>Visits</th><th scope=col>Revenue</th><th scope=col>Orders</th></tr></thead>\n",
       "<tbody>\n",
       "\t<tr><th scope=row>Min.</th><td>    1.0000 </td><td>      0.000</td><td>   0.000000</td></tr>\n",
       "\t<tr><th scope=row>1st Qu.</th><td>    1.0000 </td><td>      0.000</td><td>   0.000000</td></tr>\n",
       "\t<tr><th scope=row>Median</th><td>    2.0000 </td><td>      0.000</td><td>   0.000000</td></tr>\n",
       "\t<tr><th scope=row>Mean</th><td>  227.4854 </td><td>   1595.634</td><td>   2.098226</td></tr>\n",
       "\t<tr><th scope=row>3rd Qu.</th><td>   10.0000 </td><td>    261.588</td><td>   1.000000</td></tr>\n",
       "\t<tr><th scope=row>Max.</th><td>58182.0000 </td><td>1348614.689</td><td>1605.000000</td></tr>\n",
       "</tbody>\n",
       "</table>\n"
      ],
      "text/latex": [
       "\\begin{tabular}{r|lll}\n",
       "  & Visits & Revenue & Orders\\\\\n",
       "\\hline\n",
       "\tMin. &     1.0000  &       0.000 &    0.000000\\\\\n",
       "\t1st Qu. &     1.0000  &       0.000 &    0.000000\\\\\n",
       "\tMedian &     2.0000  &       0.000 &    0.000000\\\\\n",
       "\tMean &   227.4854  &    1595.634 &    2.098226\\\\\n",
       "\t3rd Qu. &    10.0000  &     261.588 &    1.000000\\\\\n",
       "\tMax. & 58182.0000  & 1348614.689 & 1605.000000\\\\\n",
       "\\end{tabular}\n"
      ],
      "text/markdown": [
       "\n",
       "| <!--/--> | Visits | Revenue | Orders | \n",
       "|---|---|---|---|---|---|\n",
       "| Min. |     1.0000  |       0.000 |    0.000000 | \n",
       "| 1st Qu. |     1.0000  |       0.000 |    0.000000 | \n",
       "| Median |     2.0000  |       0.000 |    0.000000 | \n",
       "| Mean |   227.4854  |    1595.634 |    2.098226 | \n",
       "| 3rd Qu. |    10.0000  |     261.588 |    1.000000 | \n",
       "| Max. | 58182.0000  | 1348614.689 | 1605.000000 | \n",
       "\n",
       "\n"
      ],
      "text/plain": [
       "        Visits     Revenue     Orders     \n",
       "Min.        1.0000       0.000    0.000000\n",
       "1st Qu.     1.0000       0.000    0.000000\n",
       "Median      2.0000       0.000    0.000000\n",
       "Mean      227.4854    1595.634    2.098226\n",
       "3rd Qu.    10.0000     261.588    1.000000\n",
       "Max.    58182.0000 1348614.689 1605.000000"
      ]
     },
     "metadata": {},
     "output_type": "display_data"
    }
   ],
   "source": [
    "sapply(names(idx.num),mySummary)\n",
    "\n",
    "## note:\n",
    "## every row has min. 1 visits\n",
    "## all the 3 numberic variables are higly skewed"
   ]
  },
  {
   "cell_type": "code",
   "execution_count": 15,
   "metadata": {},
   "outputs": [
    {
     "data": {
      "text/html": [
       "<table>\n",
       "<thead><tr><th></th><th scope=col>Visits</th><th scope=col>Revenue</th><th scope=col>Orders</th></tr></thead>\n",
       "<tbody>\n",
       "\t<tr><th scope=row>Visits</th><td>1.00000000</td><td>0.08378724</td><td>0.1230829 </td></tr>\n",
       "\t<tr><th scope=row>Revenue</th><td>0.08378724</td><td>1.00000000</td><td>0.9368868 </td></tr>\n",
       "\t<tr><th scope=row>Orders</th><td>0.12308293</td><td>0.93688683</td><td>1.0000000 </td></tr>\n",
       "</tbody>\n",
       "</table>\n"
      ],
      "text/latex": [
       "\\begin{tabular}{r|lll}\n",
       "  & Visits & Revenue & Orders\\\\\n",
       "\\hline\n",
       "\tVisits & 1.00000000 & 0.08378724 & 0.1230829 \\\\\n",
       "\tRevenue & 0.08378724 & 1.00000000 & 0.9368868 \\\\\n",
       "\tOrders & 0.12308293 & 0.93688683 & 1.0000000 \\\\\n",
       "\\end{tabular}\n"
      ],
      "text/markdown": [
       "\n",
       "| <!--/--> | Visits | Revenue | Orders | \n",
       "|---|---|---|\n",
       "| Visits | 1.00000000 | 0.08378724 | 0.1230829  | \n",
       "| Revenue | 0.08378724 | 1.00000000 | 0.9368868  | \n",
       "| Orders | 0.12308293 | 0.93688683 | 1.0000000  | \n",
       "\n",
       "\n"
      ],
      "text/plain": [
       "        Visits     Revenue    Orders   \n",
       "Visits  1.00000000 0.08378724 0.1230829\n",
       "Revenue 0.08378724 1.00000000 0.9368868\n",
       "Orders  0.12308293 0.93688683 1.0000000"
      ]
     },
     "metadata": {},
     "output_type": "display_data"
    }
   ],
   "source": [
    "cor(df[,idx.num])\n",
    "\n",
    "## note:\n",
    "## Orders and Revenue are corelated in a high degree\n",
    "## all 3 are positive related"
   ]
  },
  {
   "cell_type": "code",
   "execution_count": 16,
   "metadata": {},
   "outputs": [
    {
     "name": "stdout",
     "output_type": "stream",
     "text": [
      "[1] \"weeknumberbyyear\"\n",
      "[1] \"Visits:\"\n",
      "df.factor[, x]\n",
      "2016-48 2016-49 2016-51 2016-50 2016-41 2017-01 2016-44 2016-26 2016-25 2016-30 \n",
      "   4.72    3.21    2.71    2.47    2.36    2.16    2.15    2.14    2.13    2.08 \n",
      "2016-43 2016-21 2016-28 2016-22 2016-45 2016-52 2016-46 2016-42 2016-35 2016-13 \n",
      "   2.05    2.00    1.99    1.98    1.98    1.98    1.97    1.96    1.95    1.93 \n",
      "2016-29 2016-31 2016-02 2016-20 2016-47 2016-32 2016-27 2016-14 2016-40 2016-33 \n",
      "   1.92    1.87    1.86    1.86    1.85    1.82    1.80    1.77    1.76    1.75 \n",
      "2016-38 2016-39 2016-03 2016-07 2016-23 2016-24 2016-15 2016-36 2016-12 2016-09 \n",
      "   1.75    1.75    1.73    1.71    1.70    1.69    1.66    1.66    1.64    1.60 \n",
      "2016-16 2016-04 2016-10 2016-08 2016-11 2016-37 2016-05 2016-06 2016-18 2016-34 \n",
      "   1.60    1.59    1.59    1.58    1.57    1.55    1.53    1.53    1.52    1.51 \n",
      "2016-17 2016-19 2016-01 \n",
      "   1.46    1.37    0.54 \n",
      "[1] \"Orders\"\n",
      "df.factor[, x]\n",
      "2016-48 2016-29 2016-22 2016-49 2016-04 2016-23 2016-51 2016-50 2016-26 2016-24 \n",
      "   5.81    3.39    3.06    2.98    2.72    2.68    2.62    2.58    2.43    2.31 \n",
      "2016-27 2016-47 2016-16 2016-21 2016-06 2016-20 2016-25 2016-46 2016-17 2016-28 \n",
      "   2.31    2.25    2.22    2.19    2.16    2.16    2.06    2.02    2.01    1.87 \n",
      "2016-43 2016-07 2016-15 2016-14 2016-32 2016-52 2017-01 2016-44 2016-35 2016-40 \n",
      "   1.84    1.83    1.83    1.81    1.79    1.78    1.78    1.72    1.66    1.62 \n",
      "2016-13 2016-41 2016-42 2016-31 2016-12 2016-45 2016-33 2016-37 2016-02 2016-19 \n",
      "   1.61    1.58    1.55    1.48    1.46    1.46    1.44    1.40    1.39    1.39 \n",
      "2016-34 2016-18 2016-11 2016-30 2016-03 2016-36 2016-38 2016-39 2016-10 2016-05 \n",
      "   1.39    1.37    1.36    1.36    1.33    1.33    1.33    1.26    1.22    1.21 \n",
      "2016-08 2016-09 2016-01 \n",
      "   1.17    1.00    0.41 \n",
      "[1] \"Revenue:\"\n",
      "df.factor[, x]\n",
      "2016-48 2016-49 2016-29 2016-47 2016-50 2016-46 2016-51 2016-22 2016-04 2016-23 \n",
      "   7.07    3.51    3.28    3.18    3.08    2.79    2.79    2.70    2.63    2.37 \n",
      "2016-06 2016-20 2016-43 2016-27 2016-44 2016-21 2016-26 2016-24 2016-45 2016-52 \n",
      "   2.23    2.17    2.12    2.09    2.08    2.06    2.04    2.03    2.00    1.99 \n",
      "2017-01 2016-40 2016-07 2016-17 2016-41 2016-35 2016-32 2016-25 2016-28 2016-12 \n",
      "   1.91    1.89    1.84    1.77    1.73    1.70    1.64    1.63    1.59    1.55 \n",
      "2016-13 2016-16 2016-37 2016-11 2016-34 2016-36 2016-38 2016-19 2016-39 2016-14 \n",
      "   1.53    1.52    1.48    1.47    1.45    1.37    1.37    1.35    1.28    1.27 \n",
      "2016-18 2016-33 2016-02 2016-15 2016-03 2016-10 2016-08 2016-30 2016-31 2016-09 \n",
      "   1.27    1.27    1.26    1.26    1.23    1.23    1.21    1.15    1.12    1.07 \n",
      "2016-42 2016-05 2016-01 \n",
      "   1.02    1.00    0.35 \n",
      "[1] \"TrafficSourceType\"\n",
      "[1] \"Visits:\"\n",
      "df.factor[, x]\n",
      "    Direct    Organic        PPC Affiliates      Email    Display  Referrals \n",
      "     39.63      17.70      15.48       8.86       5.78       5.49       3.65 \n",
      "    Others \n",
      "      3.40 \n",
      "[1] \"Orders\"\n",
      "df.factor[, x]\n",
      "    Direct    Organic        PPC      Email Affiliates    Display  Referrals \n",
      "     64.38       8.55       8.24       7.12       6.52       1.96       1.70 \n",
      "    Others \n",
      "      1.53 \n",
      "[1] \"Revenue:\"\n",
      "df.factor[, x]\n",
      "    Direct    Organic        PPC      Email Affiliates    Display  Referrals \n",
      "     67.98       8.32       7.40       6.58       6.00       1.38       1.31 \n",
      "    Others \n",
      "      1.03 \n",
      "[1] \"Device\"\n",
      "[1] \"Visits:\"\n",
      "df.factor[, x]\n",
      "Desktop  Mobile  Tablet \n",
      "  48.46   43.32    8.22 \n",
      "[1] \"Orders\"\n",
      "df.factor[, x]\n",
      "Desktop  Mobile  Tablet \n",
      "  59.81   30.62    9.57 \n",
      "[1] \"Revenue:\"\n",
      "df.factor[, x]\n",
      "Desktop  Mobile  Tablet \n",
      "  64.17   26.70    9.13 \n",
      "[1] \"VisitorType\"\n",
      "[1] \"Visits:\"\n",
      "df.factor[, x]\n",
      "Returning       New \n",
      "    58.13     41.87 \n",
      "[1] \"Orders\"\n",
      "df.factor[, x]\n",
      "Returning       New \n",
      "     82.2      17.8 \n",
      "[1] \"Revenue:\"\n",
      "df.factor[, x]\n",
      "Returning       New \n",
      "    84.63     15.37 \n",
      "[1] \"NonBounceVisit\"\n",
      "[1] \"Visits:\"\n",
      "df.factor[, x]\n",
      "  Yes    No \n",
      "61.65 38.35 \n",
      "[1] \"Orders\"\n",
      "df.factor[, x]\n",
      "Yes  No \n",
      "100   0 \n",
      "[1] \"Revenue:\"\n",
      "df.factor[, x]\n",
      "Yes  No \n",
      "100   0 \n",
      "[1] \"HomePageWasVisited\"\n",
      "[1] \"Visits:\"\n",
      "df.factor[, x]\n",
      "   No   Yes \n",
      "78.35 21.65 \n",
      "[1] \"Orders\"\n",
      "df.factor[, x]\n",
      "  Yes    No \n",
      "60.47 39.53 \n",
      "[1] \"Revenue:\"\n",
      "df.factor[, x]\n",
      "  Yes    No \n",
      "63.64 36.36 \n",
      "[1] \"ProductPageWasVisited\"\n",
      "[1] \"Visits:\"\n",
      "df.factor[, x]\n",
      "  Yes    No \n",
      "58.26 41.74 \n",
      "[1] \"Orders\"\n",
      "df.factor[, x]\n",
      "  Yes    No \n",
      "93.69  6.31 \n",
      "[1] \"Revenue:\"\n",
      "df.factor[, x]\n",
      "  Yes    No \n",
      "96.36  3.64 \n",
      "[1] \"VisitToProductAfterListing\"\n",
      "[1] \"Visits:\"\n",
      "df.factor[, x]\n",
      "   No   Yes \n",
      "74.39 25.61 \n",
      "[1] \"Orders\"\n",
      "df.factor[, x]\n",
      "  Yes    No \n",
      "62.94 37.06 \n",
      "[1] \"Revenue:\"\n",
      "df.factor[, x]\n",
      " Yes   No \n",
      "68.1 31.9 \n",
      "[1] \"SiteSearchWasUsed\"\n",
      "[1] \"Visits:\"\n",
      "df.factor[, x]\n",
      "   No   Yes \n",
      "90.12  9.88 \n",
      "[1] \"Orders\"\n",
      "df.factor[, x]\n",
      "   No   Yes \n",
      "72.34 27.66 \n",
      "[1] \"Revenue:\"\n",
      "df.factor[, x]\n",
      "   No   Yes \n",
      "70.79 29.21 \n",
      "[1] \"VisitWithAddtoBag\"\n",
      "[1] \"Visits:\"\n",
      "df.factor[, x]\n",
      "   No   Yes \n",
      "95.72  4.28 \n",
      "[1] \"Orders\"\n",
      "df.factor[, x]\n",
      "  Yes    No \n",
      "64.18 35.82 \n",
      "[1] \"Revenue:\"\n",
      "df.factor[, x]\n",
      "  Yes    No \n",
      "69.95 30.05 \n",
      "[1] \"VisitWithAddtoWishlist\"\n",
      "[1] \"Visits:\"\n",
      "df.factor[, x]\n",
      "   No   Yes \n",
      "98.41  1.59 \n",
      "[1] \"Orders\"\n",
      "df.factor[, x]\n",
      "   No   Yes \n",
      "91.77  8.23 \n",
      "[1] \"Revenue:\"\n",
      "df.factor[, x]\n",
      "   No   Yes \n",
      "92.15  7.85 \n",
      "[1] \"ShippingAddressWasVisited\"\n",
      "[1] \"Visits:\"\n",
      "df.factor[, x]\n",
      "  No  Yes \n",
      "99.2  0.8 \n",
      "[1] \"Orders\"\n",
      "df.factor[, x]\n",
      "   No   Yes \n",
      "62.61 37.39 \n",
      "[1] \"Revenue:\"\n",
      "df.factor[, x]\n",
      "   No   Yes \n",
      "61.11 38.89 \n",
      "[1] \"PaymentPageWasVisited\"\n",
      "[1] \"Visits:\"\n",
      "df.factor[, x]\n",
      "   No   Yes \n",
      "98.92  1.08 \n",
      "[1] \"Orders\"\n",
      "df.factor[, x]\n",
      "  Yes    No \n",
      "56.96 43.04 \n",
      "[1] \"Revenue:\"\n",
      "df.factor[, x]\n",
      "  Yes    No \n",
      "59.71 40.29 \n",
      "[1] \"ReviewOrderPageWasVisited\"\n",
      "[1] \"Visits:\"\n",
      "df.factor[, x]\n",
      "   No   Yes \n",
      "61.65 38.35 \n",
      "[1] \"Orders\"\n",
      "df.factor[, x]\n",
      "Yes  No \n",
      "100   0 \n",
      "[1] \"Revenue:\"\n",
      "df.factor[, x]\n",
      "Yes  No \n",
      "100   0 \n",
      "[1] \"ConfirmationPageWasVisited\"\n",
      "[1] \"Visits:\"\n",
      "df.factor[, x]\n",
      "   No   Yes \n",
      "61.82 38.18 \n",
      "[1] \"Orders\"\n",
      "df.factor[, x]\n",
      "Yes  No \n",
      "100   0 \n",
      "[1] \"Revenue:\"\n",
      "df.factor[, x]\n",
      "Yes  No \n",
      "100   0 \n"
     ]
    },
    {
     "data": {
      "text/plain": [
       "$weeknumberbyyear\n",
       "df.factor[, x]\n",
       "2016-48 2016-49 2016-29 2016-47 2016-50 2016-46 2016-51 2016-22 2016-04 2016-23 \n",
       "   7.07    3.51    3.28    3.18    3.08    2.79    2.79    2.70    2.63    2.37 \n",
       "2016-06 2016-20 2016-43 2016-27 2016-44 2016-21 2016-26 2016-24 2016-45 2016-52 \n",
       "   2.23    2.17    2.12    2.09    2.08    2.06    2.04    2.03    2.00    1.99 \n",
       "2017-01 2016-40 2016-07 2016-17 2016-41 2016-35 2016-32 2016-25 2016-28 2016-12 \n",
       "   1.91    1.89    1.84    1.77    1.73    1.70    1.64    1.63    1.59    1.55 \n",
       "2016-13 2016-16 2016-37 2016-11 2016-34 2016-36 2016-38 2016-19 2016-39 2016-14 \n",
       "   1.53    1.52    1.48    1.47    1.45    1.37    1.37    1.35    1.28    1.27 \n",
       "2016-18 2016-33 2016-02 2016-15 2016-03 2016-10 2016-08 2016-30 2016-31 2016-09 \n",
       "   1.27    1.27    1.26    1.26    1.23    1.23    1.21    1.15    1.12    1.07 \n",
       "2016-42 2016-05 2016-01 \n",
       "   1.02    1.00    0.35 \n",
       "\n",
       "$TrafficSourceType\n",
       "df.factor[, x]\n",
       "    Direct    Organic        PPC      Email Affiliates    Display  Referrals \n",
       "     67.98       8.32       7.40       6.58       6.00       1.38       1.31 \n",
       "    Others \n",
       "      1.03 \n",
       "\n",
       "$Device\n",
       "df.factor[, x]\n",
       "Desktop  Mobile  Tablet \n",
       "  64.17   26.70    9.13 \n",
       "\n",
       "$VisitorType\n",
       "df.factor[, x]\n",
       "Returning       New \n",
       "    84.63     15.37 \n",
       "\n",
       "$NonBounceVisit\n",
       "df.factor[, x]\n",
       "Yes  No \n",
       "100   0 \n",
       "\n",
       "$HomePageWasVisited\n",
       "df.factor[, x]\n",
       "  Yes    No \n",
       "63.64 36.36 \n",
       "\n",
       "$ProductPageWasVisited\n",
       "df.factor[, x]\n",
       "  Yes    No \n",
       "96.36  3.64 \n",
       "\n",
       "$VisitToProductAfterListing\n",
       "df.factor[, x]\n",
       " Yes   No \n",
       "68.1 31.9 \n",
       "\n",
       "$SiteSearchWasUsed\n",
       "df.factor[, x]\n",
       "   No   Yes \n",
       "70.79 29.21 \n",
       "\n",
       "$VisitWithAddtoBag\n",
       "df.factor[, x]\n",
       "  Yes    No \n",
       "69.95 30.05 \n",
       "\n",
       "$VisitWithAddtoWishlist\n",
       "df.factor[, x]\n",
       "   No   Yes \n",
       "92.15  7.85 \n",
       "\n",
       "$ShippingAddressWasVisited\n",
       "df.factor[, x]\n",
       "   No   Yes \n",
       "61.11 38.89 \n",
       "\n",
       "$PaymentPageWasVisited\n",
       "df.factor[, x]\n",
       "  Yes    No \n",
       "59.71 40.29 \n",
       "\n",
       "$ReviewOrderPageWasVisited\n",
       "df.factor[, x]\n",
       "Yes  No \n",
       "100   0 \n",
       "\n",
       "$ConfirmationPageWasVisited\n",
       "df.factor[, x]\n",
       "Yes  No \n",
       "100   0 \n"
      ]
     },
     "metadata": {},
     "output_type": "display_data"
    }
   ],
   "source": [
    "sapply(names(idx.char),myTable) \n",
    "\n",
    "## note:\n",
    "## figure out 3 variables are 100% linking to order/revenue\n",
    "## NonBounceVisit: Yes - 100% Orders=0, Revenue=0\n",
    "## ReviewOrderPageWasVisited: No - 100% Orders=0, Revenue=0\n",
    "## ConfirmationPageWasVisited: No - 100% Orders=0, Revenue=0"
   ]
  },
  {
   "cell_type": "code",
   "execution_count": null,
   "metadata": {},
   "outputs": [],
   "source": [
    "#Business Overview: KPI-define,components,trend,share\n",
    "#  Present an overview analysis of Farfetch Results in 2016. \n",
    "#  Which metrics do you think are relevant to measure Farfetch performance? Enumerate KPIs that can be derived from the database provided and develop an analysis over that KPI. "
   ]
  },
  {
   "cell_type": "code",
   "execution_count": 62,
   "metadata": {},
   "outputs": [],
   "source": [
    "#trend\n",
    "agg <- aggregate(cbind(Visits,Orders,Revenue) ~ weeknumberbyyear,df.factor,sum)"
   ]
  },
  {
   "cell_type": "code",
   "execution_count": 63,
   "metadata": {},
   "outputs": [],
   "source": [
    "agg$CoR <- round(agg$Orders/agg$Visits,digits=4) *100\n",
    "agg$AoV <- round(agg$Revenue/agg$Orders,digits=2)\n",
    "agg$week <- ifelse(agg$weeknumberbyyear==\"2017-01\",54,as.numeric(substr(agg$weeknumberbyyear,6,7)))"
   ]
  },
  {
   "cell_type": "code",
   "execution_count": 64,
   "metadata": {},
   "outputs": [
    {
     "name": "stdout",
     "output_type": "stream",
     "text": [
      "'data.frame':\t53 obs. of  7 variables:\n",
      " $ weeknumberbyyear: chr  \"2016-01\" \"2016-02\" \"2016-03\" \"2016-04\" ...\n",
      " $ Visits          : num  190621 660281 614301 564557 543870 ...\n",
      " $ Orders          : num  1333 4543 4357 8889 3944 ...\n",
      " $ Revenue         : num  875549 3138079 3058317 6548814 2486678 ...\n",
      " $ CoR             : num  0.7 0.69 0.71 1.57 0.73 1.31 0.99 0.69 0.58 0.71 ...\n",
      " $ AoV             : num  657 691 702 737 630 ...\n",
      " $ week            : num  1 2 3 4 5 6 7 8 9 10 ...\n"
     ]
    }
   ],
   "source": [
    "str(agg)"
   ]
  },
  {
   "cell_type": "code",
   "execution_count": 65,
   "metadata": {},
   "outputs": [
    {
     "data": {
      "image/png": "[encoded data removed]",
      "text/plain": [
       "Plot with title \"Weekly Visits in 2016\""
      ]
     },
     "metadata": {},
     "output_type": "display_data"
    }
   ],
   "source": [
    "plot(Visits~week,agg,type='l',col=1,lty=1,ylim=c(0,2e+06),main=\"Weekly Visits in 2016\",ylab=\"Visits\")\n",
    "lines(lowess(agg$week,agg$Visits),col=2,lwd=2,lty=2)"
   ]
  },
  {
   "cell_type": "code",
   "execution_count": 66,
   "metadata": {},
   "outputs": [
    {
     "data": {
      "image/png": "[encoded data removed]",
      "text/plain": [
       "Plot with title \"Weekly Orders in 2016\""
      ]
     },
     "metadata": {},
     "output_type": "display_data"
    }
   ],
   "source": [
    "plot(Orders~week,agg,type='l',col=1,lty=1,ylim=c(0,2.5e+04),main=\"Weekly Orders in 2016\",ylab=\"Orders\")\n",
    "lines(lowess(agg$week,agg$Orders),col=2,lwd=2,lty=2)"
   ]
  },
  {
   "cell_type": "code",
   "execution_count": 67,
   "metadata": {},
   "outputs": [
    {
     "data": {
      "image/png": "[encoded data removed]",
      "text/plain": [
       "Plot with title \"Weekly Revenue in 2016\""
      ]
     },
     "metadata": {},
     "output_type": "display_data"
    }
   ],
   "source": [
    "plot(Revenue~week,agg,type='l',col=1,lty=1,ylim=c(0,2e+07),main=\"Weekly Revenue in 2016\",ylab=\"Revenue\")\n",
    "lines(lowess(agg$week,agg$Revenue),col=2,lwd=2,lty=2)"
   ]
  },
  {
   "cell_type": "code",
   "execution_count": 68,
   "metadata": {},
   "outputs": [
    {
     "data": {
      "image/png": "[encoded data removed]",
      "text/plain": [
       "Plot with title \"Conversion Rate in 2016\""
      ]
     },
     "metadata": {},
     "output_type": "display_data"
    }
   ],
   "source": [
    "plot(CoR~week,agg,type='l',col=1,lty=1,ylim=c(0,2),main=\"Conversion Rate in 2016\",ylab=\"Order per Visit (%)\")\n",
    "lines(lowess(agg$week,agg$CoR),col=2,lwd=2,lty=2)"
   ]
  },
  {
   "cell_type": "code",
   "execution_count": 69,
   "metadata": {},
   "outputs": [
    {
     "data": {
      "image/png": "[encoded data removed]",
      "text/plain": [
       "Plot with title \"Avg Order Value in 2016\""
      ]
     },
     "metadata": {},
     "output_type": "display_data"
    }
   ],
   "source": [
    "plot(AoV~week,agg,type='l',col=1,lty=1,ylim=c(0,1500),main=\"Avg Order Value in 2016\",ylab=\"Revenue per Order\")\n",
    "lines(lowess(agg$week,agg$AoV),col=2,lwd=2,lty=2)"
   ]
  },
  {
   "cell_type": "code",
   "execution_count": null,
   "metadata": {},
   "outputs": [],
   "source": [
    "## note:\n",
    "## all the 5 KPI trend and the lowess lines indicate the \n",
    "## Visits, Orders, Revenue went up through the year\n",
    "## Order Valeus went up through the year\n",
    "## Conversion Rate kept up in 1/2 year, went down a bit and went flat in the last 1/3 year"
   ]
  },
  {
   "cell_type": "code",
   "execution_count": null,
   "metadata": {},
   "outputs": [],
   "source": [
    "# by TrafficSourceType"
   ]
  },
  {
   "cell_type": "code",
   "execution_count": 70,
   "metadata": {},
   "outputs": [],
   "source": [
    "agg <- aggregate(cbind(Visits,Orders,Revenue) ~ weeknumberbyyear + TrafficSourceType,df.factor,sum)\n",
    "agg$CoR <- round(agg$Orders/agg$Visits,digits=4) *100\n",
    "agg$AoV <- round(agg$Revenue/agg$Orders,digits=2)\n",
    "agg$week <- ifelse(agg$weeknumberbyyear==\"2017-01\",54,as.numeric(substr(agg$weeknumberbyyear,6,7)))"
   ]
  },
  {
   "cell_type": "code",
   "execution_count": 71,
   "metadata": {},
   "outputs": [
    {
     "data": {
      "image/png": "[encoded data removed]",
      "text/plain": [
       "Plot with title \"Visits\""
      ]
     },
     "metadata": {},
     "output_type": "display_data"
    },
    {
     "data": {
      "image/png": "[encoded data removed]",
      "text/plain": [
       "Plot with title \"Orders\""
      ]
     },
     "metadata": {},
     "output_type": "display_data"
    },
    {
     "data": {
      "image/png": "[encoded data removed]",
      "text/plain": [
       "Plot with title \"Revenue\""
      ]
     },
     "metadata": {},
     "output_type": "display_data"
    }
   ],
   "source": [
    "myPie(\"TrafficSourceType\",\"Visits\")\n",
    "myPie(\"TrafficSourceType\",\"Orders\")\n",
    "myPie(\"TrafficSourceType\",\"Revenue\")"
   ]
  },
  {
   "cell_type": "code",
   "execution_count": 72,
   "metadata": {},
   "outputs": [
    {
     "data": {
      "image/png": "[encoded data removed]",
      "text/plain": [
       "Plot with title \"Visits\""
      ]
     },
     "metadata": {},
     "output_type": "display_data"
    },
    {
     "data": {
      "image/png": "[encoded data removed]",
      "text/plain": [
       "Plot with title \"Revenue\""
      ]
     },
     "metadata": {},
     "output_type": "display_data"
    },
    {
     "data": {
      "image/png": "[encoded data removed]",
      "text/plain": [
       "Plot with title \"Order per Visit(%)\""
      ]
     },
     "metadata": {},
     "output_type": "display_data"
    },
    {
     "data": {
      "image/png": "[encoded data removed]",
      "text/plain": [
       "Plot with title \"Revenue per Order\""
      ]
     },
     "metadata": {},
     "output_type": "display_data"
    }
   ],
   "source": [
    "boxplot(Visits~TrafficSourceType,agg,main=\"Visits\")\n",
    "boxplot(Revenue~TrafficSourceType,agg,main=\"Revenue\")\n",
    "boxplot(CoR~TrafficSourceType,agg,main=\"Order per Visit(%)\")\n",
    "boxplot(AoV~TrafficSourceType,agg,main=\"Revenue per Order\")"
   ]
  },
  {
   "cell_type": "code",
   "execution_count": null,
   "metadata": {},
   "outputs": [],
   "source": [
    "## note: \n",
    "## TrafficSourceType:Direct is top 1 in all the KPI, it took 40% Visits, 64% Orders, 68% Revenue.\n",
    "## Next to Direct, Email has high CoR."
   ]
  },
  {
   "cell_type": "code",
   "execution_count": null,
   "metadata": {},
   "outputs": [],
   "source": [
    "# by Device"
   ]
  },
  {
   "cell_type": "code",
   "execution_count": 73,
   "metadata": {},
   "outputs": [],
   "source": [
    "agg <- aggregate(cbind(Visits,Orders,Revenue) ~ weeknumberbyyear + Device,df.factor,sum)\n",
    "agg$CoR <- round(agg$Orders/agg$Visits,digits=4) *100\n",
    "agg$AoV <- round(agg$Revenue/agg$Orders,digits=2)\n",
    "agg$week <- ifelse(agg$weeknumberbyyear==\"2017-01\",54,as.numeric(substr(agg$weeknumberbyyear,6,7)))"
   ]
  },
  {
   "cell_type": "code",
   "execution_count": 74,
   "metadata": {},
   "outputs": [
    {
     "data": {
      "image/png": "[encoded data removed]",
      "text/plain": [
       "Plot with title \"Visits\""
      ]
     },
     "metadata": {},
     "output_type": "display_data"
    },
    {
     "data": {
      "image/png": "[encoded data removed]",
      "text/plain": [
       "Plot with title \"Orders\""
      ]
     },
     "metadata": {},
     "output_type": "display_data"
    },
    {
     "data": {
      "image/png": "[encoded data removed]",
      "text/plain": [
       "Plot with title \"Revenue\""
      ]
     },
     "metadata": {},
     "output_type": "display_data"
    }
   ],
   "source": [
    "myPie(\"Device\",\"Visits\")\n",
    "myPie(\"Device\",\"Orders\")\n",
    "myPie(\"Device\",\"Revenue\")"
   ]
  },
  {
   "cell_type": "code",
   "execution_count": 75,
   "metadata": {},
   "outputs": [
    {
     "data": {
      "image/png": "[encoded data removed]",
      "text/plain": [
       "Plot with title \"Visits\""
      ]
     },
     "metadata": {},
     "output_type": "display_data"
    },
    {
     "data": {
      "image/png": "[encoded data removed]",
      "text/plain": [
       "Plot with title \"Revenue\""
      ]
     },
     "metadata": {},
     "output_type": "display_data"
    },
    {
     "data": {
      "image/png": "[encoded data removed]",
      "text/plain": [
       "Plot with title \"Order per Visit(%)\""
      ]
     },
     "metadata": {},
     "output_type": "display_data"
    },
    {
     "data": {
      "image/png": "[encoded data removed]",
      "text/plain": [
       "Plot with title \"Revenue per Order\""
      ]
     },
     "metadata": {},
     "output_type": "display_data"
    }
   ],
   "source": [
    "boxplot(Visits~Device,agg,main=\"Visits\")\n",
    "boxplot(Revenue~Device,agg,main=\"Revenue\")\n",
    "boxplot(CoR~Device,agg,main=\"Order per Visit(%)\")\n",
    "boxplot(AoV~Device,agg,main=\"Revenue per Order\")"
   ]
  },
  {
   "cell_type": "code",
   "execution_count": 76,
   "metadata": {},
   "outputs": [
    {
     "data": {
      "image/png": "[encoded data removed]",
      "text/plain": [
       "Plot with title \"Trend - Device\""
      ]
     },
     "metadata": {},
     "output_type": "display_data"
    }
   ],
   "source": [
    "plot(Visits~week,filter(agg,Device==\"Desktop\"),type='l',col=1,lty=1,ylim=c(0,9e+05),main=\"Trend - Device\",ylab=\"Visits\")\n",
    "lines(Visits~week,filter(agg,Device==\"Mobile\"),col=2,lty=2)\n",
    "lines(Visits~week,filter(agg,Device==\"Tablet\"),col=3,lty=3)\n",
    "legend(\"topleft\",col=c(1,2,3),lty=c(1,2,3),c(\"Desktop\"，\"Mobile\",\"Tablet\"))"
   ]
  },
  {
   "cell_type": "code",
   "execution_count": 77,
   "metadata": {},
   "outputs": [
    {
     "data": {
      "image/png": "[encoded data removed]",
      "text/plain": [
       "Plot with title \"Trend - Device\""
      ]
     },
     "metadata": {},
     "output_type": "display_data"
    }
   ],
   "source": [
    "plot(CoR~week,filter(agg,Device==\"Desktop\"),type='l',col=1,lty=1,ylim=c(0,3),main=\"Trend - Device\",ylab=\"Order per Visit (%)\")\n",
    "lines(CoR~week,filter(agg,Device==\"Mobile\"),col=2,lty=2)\n",
    "lines(CoR~week,filter(agg,Device==\"Tablet\"),col=3,lty=3)\n",
    "legend(\"topleft\",col=c(1,2,3),lty=c(1,2,3),c(\"Desktop\"，\"Mobile\",\"Tablet\"))"
   ]
  },
  {
   "cell_type": "code",
   "execution_count": 78,
   "metadata": {},
   "outputs": [
    {
     "data": {
      "image/png": "[encoded data removed]",
      "text/plain": [
       "Plot with title \"Trend - Device\""
      ]
     },
     "metadata": {},
     "output_type": "display_data"
    }
   ],
   "source": [
    "plot(AoV~week,filter(agg,Device==\"Desktop\"),type='l',col=1,lty=1,ylim=c(0,1200),main=\"Trend - Device\",ylab=\"Revenue per Order\")\n",
    "lines(AoV~week,filter(agg,Device==\"Mobile\"),col=2,lty=2)\n",
    "lines(AoV~week,filter(agg,Device==\"Tablet\"),col=3,lty=3)\n",
    "legend(\"topleft\",col=c(1,2,3),lty=c(1,2,3),c(\"Desktop\"，\"Mobile\",\"Tablet\"))"
   ]
  },
  {
   "cell_type": "code",
   "execution_count": null,
   "metadata": {},
   "outputs": [],
   "source": [
    "## note:\n",
    "## mobile forked #2 visits, but the CoR, AoV are the bottom."
   ]
  },
  {
   "cell_type": "code",
   "execution_count": null,
   "metadata": {},
   "outputs": [],
   "source": [
    "# VisitorType"
   ]
  },
  {
   "cell_type": "code",
   "execution_count": 80,
   "metadata": {},
   "outputs": [],
   "source": [
    "agg <- aggregate(cbind(Visits,Orders,Revenue) ~ weeknumberbyyear + VisitorType,df.factor,sum)\n",
    "agg$CoR <- round(agg$Orders/agg$Visits,digits=4) *100\n",
    "agg$AoV <- round(agg$Revenue/agg$Orders,digits=2)\n",
    "agg$week <- ifelse(agg$weeknumberbyyear==\"2017-01\",54,as.numeric(substr(agg$weeknumberbyyear,6,7)))"
   ]
  },
  {
   "cell_type": "code",
   "execution_count": 81,
   "metadata": {},
   "outputs": [
    {
     "data": {
      "image/png": "[encoded data removed]",
      "text/plain": [
       "Plot with title \"Visits\""
      ]
     },
     "metadata": {},
     "output_type": "display_data"
    },
    {
     "data": {
      "image/png": "[encoded data removed]",
      "text/plain": [
       "Plot with title \"Orders\""
      ]
     },
     "metadata": {},
     "output_type": "display_data"
    },
    {
     "data": {
      "image/png": "[encoded data removed]",
      "text/plain": [
       "Plot with title \"Revenue\""
      ]
     },
     "metadata": {},
     "output_type": "display_data"
    }
   ],
   "source": [
    "myPie(\"VisitorType\",\"Visits\")\n",
    "myPie(\"VisitorType\",\"Orders\")\n",
    "myPie(\"VisitorType\",\"Revenue\")"
   ]
  },
  {
   "cell_type": "code",
   "execution_count": 82,
   "metadata": {},
   "outputs": [
    {
     "data": {
      "image/png": "[encoded data removed]",
      "text/plain": [
       "Plot with title \"Visits\""
      ]
     },
     "metadata": {},
     "output_type": "display_data"
    },
    {
     "data": {
      "image/png": "[encoded data removed]",
      "text/plain": [
       "Plot with title \"Revenue\""
      ]
     },
     "metadata": {},
     "output_type": "display_data"
    },
    {
     "data": {
      "image/png": "[encoded data removed]",
      "text/plain": [
       "Plot with title \"Order per Visit(%)\""
      ]
     },
     "metadata": {},
     "output_type": "display_data"
    },
    {
     "data": {
      "image/png": "[encoded data removed]",
      "text/plain": [
       "Plot with title \"Revenue per Order\""
      ]
     },
     "metadata": {},
     "output_type": "display_data"
    }
   ],
   "source": [
    "boxplot(Visits~VisitorType,agg,main=\"Visits\")\n",
    "boxplot(Revenue~VisitorType,agg,main=\"Revenue\")\n",
    "boxplot(CoR~VisitorType,agg,main=\"Order per Visit(%)\")\n",
    "boxplot(AoV~VisitorType,agg,main=\"Revenue per Order\")"
   ]
  },
  {
   "cell_type": "code",
   "execution_count": null,
   "metadata": {},
   "outputs": [],
   "source": [
    "## note:\n",
    "## returning visitor contributed 58% Visits, 82% Orders, 85% Revenues; well above new visitors."
   ]
  },
  {
   "cell_type": "code",
   "execution_count": null,
   "metadata": {},
   "outputs": [],
   "source": [
    "#NonBounceVisit"
   ]
  },
  {
   "cell_type": "code",
   "execution_count": 83,
   "metadata": {},
   "outputs": [
    {
     "data": {
      "image/png": "[encoded data removed]",
      "text/plain": [
       "Plot with title \"Visits\""
      ]
     },
     "metadata": {},
     "output_type": "display_data"
    }
   ],
   "source": [
    "myPie(\"NonBounceVisit\",\"Visits\")"
   ]
  },
  {
   "cell_type": "code",
   "execution_count": 38,
   "metadata": {},
   "outputs": [],
   "source": [
    "agg <- aggregate(cbind(Visits) ~ weeknumberbyyear + NonBounceVisit,df.factor,sum)\n",
    "agg$week <- ifelse(agg$weeknumberbyyear==\"2017-01\",54,as.numeric(substr(agg$weeknumberbyyear,6,7)))"
   ]
  },
  {
   "cell_type": "code",
   "execution_count": 39,
   "metadata": {},
   "outputs": [
    {
     "data": {
      "image/png": "[encoded data removed]",
      "text/plain": [
       "Plot with title \"Trend - Visits\""
      ]
     },
     "metadata": {},
     "output_type": "display_data"
    }
   ],
   "source": [
    "plot(Visits~week,filter(agg,NonBounceVisit==\"No\"),type='l',col=1,lty=1,ylim=c(0,1.5e+06),main=\"Trend - Visits\",ylab=\"Visits\")\n",
    "lines(Visits~week,filter(agg,NonBounceVisit==\"Yes\"),col=2,lty=2,ylim=c(0,9e+05))\n",
    "legend(\"topleft\",col=c(1,2),lty=c(1,2),c(\"BounceVisit\"，\"NonBounceVisit\"))"
   ]
  },
  {
   "cell_type": "code",
   "execution_count": 40,
   "metadata": {},
   "outputs": [
    {
     "data": {
      "text/plain": [
       "              TrafficSourceType\n",
       "NonBounceVisit Affiliates Direct Display Email Organic Others   PPC Referrals\n",
       "           No       44.56  31.72   41.09 30.25   45.14  38.45 44.94     43.09\n",
       "           Yes      55.44  68.28   58.91 69.75   54.86  61.55 55.06     56.91"
      ]
     },
     "metadata": {},
     "output_type": "display_data"
    }
   ],
   "source": [
    "round(prop.table(xtabs(Visits ~ NonBounceVisit + TrafficSourceType,df.factor),2),digits=4)*100"
   ]
  },
  {
   "cell_type": "code",
   "execution_count": 41,
   "metadata": {},
   "outputs": [
    {
     "data": {
      "text/plain": [
       "              VisitorType\n",
       "NonBounceVisit   New Returning\n",
       "           No  49.51     30.31\n",
       "           Yes 50.49     69.69"
      ]
     },
     "metadata": {},
     "output_type": "display_data"
    }
   ],
   "source": [
    "round(prop.table(xtabs(Visits ~ NonBounceVisit + VisitorType,df.factor),2),digits=4)*100"
   ]
  },
  {
   "cell_type": "code",
   "execution_count": 42,
   "metadata": {},
   "outputs": [
    {
     "data": {
      "text/plain": [
       "              Device\n",
       "NonBounceVisit Desktop Mobile Tablet\n",
       "           No    30.08  47.76  37.55\n",
       "           Yes   69.92  52.24  62.45"
      ]
     },
     "metadata": {},
     "output_type": "display_data"
    }
   ],
   "source": [
    "round(prop.table(xtabs(Visits ~ NonBounceVisit + Device,df.factor),2),digits=4)*100"
   ]
  },
  {
   "cell_type": "code",
   "execution_count": null,
   "metadata": {},
   "outputs": [],
   "source": [
    "## note: \n",
    "## bouncevisit followed the same trend of normal visit\n",
    "## bouncevisit generate zero order/revenue\n",
    "## new visitor: 50% bounce visit vs returnig user: 30%\n",
    "## mobile: 48% bounce visit, which explained the low CoR"
   ]
  },
  {
   "cell_type": "code",
   "execution_count": null,
   "metadata": {},
   "outputs": [],
   "source": [
    "#Product Overview\n",
    "#Q: What is driving mobile device Conversion Rate compared to other Devices? What are you recommendations for the Product Team? \n",
    "#Q: In Jan-17 the Product Team will implement a new checkout feature that is expected to improve mobile Conversion Rate by 5%. What is the expected impact on Revenue of this project? \n",
    "#Q: Please outline your strategy to optimize Farfetch Conversion Rate for 2017. \n",
    "#       What are the areas of greatest improvement opportunity? \n",
    "#       Where the Product Team should focus?\n",
    "#       Please present at least 5 projects and the value VisitWithAddtoWishlistYes associated with each one.  \n"
   ]
  },
  {
   "cell_type": "code",
   "execution_count": null,
   "metadata": {},
   "outputs": [],
   "source": [
    "#logistic regression to build model of conversion rate"
   ]
  },
  {
   "cell_type": "code",
   "execution_count": 43,
   "metadata": {},
   "outputs": [],
   "source": [
    " myData <- filter(df.factor,NonBounceVisit==\"Yes\")\n",
    "myData$ynOrders <- ifelse(myData$Orders>0,1,0)\n",
    "myData$ynOrders <- factor(myData$ynOrders,levels=c(0,1),labels=c(\"No\",\"Yes\"))\n",
    "\n",
    "# remove 3 variables will cause glm overfit\n",
    "myFormula <-  ynOrders ~  week + TrafficSourceType + Device + VisitorType + HomePageWasVisited + ProductPageWasVisited + VisitToProductAfterListing + SiteSearchWasUsed + VisitWithAddtoBag + VisitWithAddtoWishlist + ShippingAddressWasVisited + PaymentPageWasVisited\n"
   ]
  },
  {
   "cell_type": "code",
   "execution_count": 44,
   "metadata": {},
   "outputs": [],
   "source": [
    "fit <- glm(myFormula,data = myData, family = binomial())"
   ]
  },
  {
   "cell_type": "code",
   "execution_count": 45,
   "metadata": {},
   "outputs": [
    {
     "data": {
      "text/plain": [
       "\n",
       "Call:\n",
       "glm(formula = myFormula, family = binomial(), data = myData)\n",
       "\n",
       "Deviance Residuals: \n",
       "    Min       1Q   Median       3Q      Max  \n",
       "-1.7220  -0.9042  -0.6314   1.1960   2.5009  \n",
       "\n",
       "Coefficients:\n",
       "                                Estimate Std. Error z value Pr(>|z|)    \n",
       "(Intercept)                   -2.2618285  0.0316589 -71.444  < 2e-16 ***\n",
       "week                           0.0013064  0.0003809   3.430 0.000603 ***\n",
       "TrafficSourceTypeDirect        0.6022493  0.0200977  29.966  < 2e-16 ***\n",
       "TrafficSourceTypeDisplay      -0.3420183  0.0274744 -12.449  < 2e-16 ***\n",
       "TrafficSourceTypeEmail         0.1763875  0.0232888   7.574 3.62e-14 ***\n",
       "TrafficSourceTypeOrganic       0.0425332  0.0228178   1.864 0.062316 .  \n",
       "TrafficSourceTypeOthers       -0.4262781  0.0279008 -15.278  < 2e-16 ***\n",
       "TrafficSourceTypePPC           0.0528642  0.0224855   2.351 0.018721 *  \n",
       "TrafficSourceTypeReferrals    -0.4603019  0.0286542 -16.064  < 2e-16 ***\n",
       "DeviceMobile                  -0.1581788  0.0132104 -11.974  < 2e-16 ***\n",
       "DeviceTablet                  -0.3335896  0.0155723 -21.422  < 2e-16 ***\n",
       "VisitorTypeReturning           0.4174270  0.0124504  33.527  < 2e-16 ***\n",
       "HomePageWasVisitedYes          0.2366238  0.0117880  20.073  < 2e-16 ***\n",
       "ProductPageWasVisitedYes       1.0887065  0.0222378  48.958  < 2e-16 ***\n",
       "VisitToProductAfterListingYes  0.1850904  0.0132560  13.963  < 2e-16 ***\n",
       "SiteSearchWasUsedYes          -0.3150175  0.0125576 -25.086  < 2e-16 ***\n",
       "VisitWithAddtoBagYes           0.1528067  0.0125552  12.171  < 2e-16 ***\n",
       "VisitWithAddtoWishlistYes     -0.6897761  0.0140855 -48.971  < 2e-16 ***\n",
       "ShippingAddressWasVisitedYes  -0.2366024  0.0128981 -18.344  < 2e-16 ***\n",
       "PaymentPageWasVisitedYes       0.7334786  0.0125036  58.661  < 2e-16 ***\n",
       "---\n",
       "Signif. codes:  0 '***' 0.001 '**' 0.01 '*' 0.05 '.' 0.1 ' ' 1\n",
       "\n",
       "(Dispersion parameter for binomial family taken to be 1)\n",
       "\n",
       "    Null deviance: 188756  on 149406  degrees of freedom\n",
       "Residual deviance: 172672  on 149387  degrees of freedom\n",
       "AIC: 172712\n",
       "\n",
       "Number of Fisher Scoring iterations: 4\n"
      ]
     },
     "metadata": {},
     "output_type": "display_data"
    }
   ],
   "source": [
    "summary(fit)"
   ]
  },
  {
   "cell_type": "code",
   "execution_count": 46,
   "metadata": {},
   "outputs": [
    {
     "data": {
      "text/html": [
       "<dl class=dl-horizontal>\n",
       "\t<dt>(Intercept)</dt>\n",
       "\t\t<dd>0.1042</dd>\n",
       "\t<dt>week</dt>\n",
       "\t\t<dd>1.0013</dd>\n",
       "\t<dt>TrafficSourceTypeDirect</dt>\n",
       "\t\t<dd>1.8262</dd>\n",
       "\t<dt>TrafficSourceTypeDisplay</dt>\n",
       "\t\t<dd>0.7103</dd>\n",
       "\t<dt>TrafficSourceTypeEmail</dt>\n",
       "\t\t<dd>1.1929</dd>\n",
       "\t<dt>TrafficSourceTypeOrganic</dt>\n",
       "\t\t<dd>1.0435</dd>\n",
       "\t<dt>TrafficSourceTypeOthers</dt>\n",
       "\t\t<dd>0.6529</dd>\n",
       "\t<dt>TrafficSourceTypePPC</dt>\n",
       "\t\t<dd>1.0543</dd>\n",
       "\t<dt>TrafficSourceTypeReferrals</dt>\n",
       "\t\t<dd>0.6311</dd>\n",
       "\t<dt>DeviceMobile</dt>\n",
       "\t\t<dd>0.8537</dd>\n",
       "\t<dt>DeviceTablet</dt>\n",
       "\t\t<dd>0.7163</dd>\n",
       "\t<dt>VisitorTypeReturning</dt>\n",
       "\t\t<dd>1.5181</dd>\n",
       "\t<dt>HomePageWasVisitedYes</dt>\n",
       "\t\t<dd>1.267</dd>\n",
       "\t<dt>ProductPageWasVisitedYes</dt>\n",
       "\t\t<dd>2.9704</dd>\n",
       "\t<dt>VisitToProductAfterListingYes</dt>\n",
       "\t\t<dd>1.2033</dd>\n",
       "\t<dt>SiteSearchWasUsedYes</dt>\n",
       "\t\t<dd>0.7298</dd>\n",
       "\t<dt>VisitWithAddtoBagYes</dt>\n",
       "\t\t<dd>1.1651</dd>\n",
       "\t<dt>VisitWithAddtoWishlistYes</dt>\n",
       "\t\t<dd>0.5017</dd>\n",
       "\t<dt>ShippingAddressWasVisitedYes</dt>\n",
       "\t\t<dd>0.7893</dd>\n",
       "\t<dt>PaymentPageWasVisitedYes</dt>\n",
       "\t\t<dd>2.0823</dd>\n",
       "</dl>\n"
      ],
      "text/latex": [
       "\\begin{description*}\n",
       "\\item[(Intercept)] 0.1042\n",
       "\\item[week] 1.0013\n",
       "\\item[TrafficSourceTypeDirect] 1.8262\n",
       "\\item[TrafficSourceTypeDisplay] 0.7103\n",
       "\\item[TrafficSourceTypeEmail] 1.1929\n",
       "\\item[TrafficSourceTypeOrganic] 1.0435\n",
       "\\item[TrafficSourceTypeOthers] 0.6529\n",
       "\\item[TrafficSourceTypePPC] 1.0543\n",
       "\\item[TrafficSourceTypeReferrals] 0.6311\n",
       "\\item[DeviceMobile] 0.8537\n",
       "\\item[DeviceTablet] 0.7163\n",
       "\\item[VisitorTypeReturning] 1.5181\n",
       "\\item[HomePageWasVisitedYes] 1.267\n",
       "\\item[ProductPageWasVisitedYes] 2.9704\n",
       "\\item[VisitToProductAfterListingYes] 1.2033\n",
       "\\item[SiteSearchWasUsedYes] 0.7298\n",
       "\\item[VisitWithAddtoBagYes] 1.1651\n",
       "\\item[VisitWithAddtoWishlistYes] 0.5017\n",
       "\\item[ShippingAddressWasVisitedYes] 0.7893\n",
       "\\item[PaymentPageWasVisitedYes] 2.0823\n",
       "\\end{description*}\n"
      ],
      "text/markdown": [
       "(Intercept)\n",
       ":   0.1042week\n",
       ":   1.0013TrafficSourceTypeDirect\n",
       ":   1.8262TrafficSourceTypeDisplay\n",
       ":   0.7103TrafficSourceTypeEmail\n",
       ":   1.1929TrafficSourceTypeOrganic\n",
       ":   1.0435TrafficSourceTypeOthers\n",
       ":   0.6529TrafficSourceTypePPC\n",
       ":   1.0543TrafficSourceTypeReferrals\n",
       ":   0.6311DeviceMobile\n",
       ":   0.8537DeviceTablet\n",
       ":   0.7163VisitorTypeReturning\n",
       ":   1.5181HomePageWasVisitedYes\n",
       ":   1.267ProductPageWasVisitedYes\n",
       ":   2.9704VisitToProductAfterListingYes\n",
       ":   1.2033SiteSearchWasUsedYes\n",
       ":   0.7298VisitWithAddtoBagYes\n",
       ":   1.1651VisitWithAddtoWishlistYes\n",
       ":   0.5017ShippingAddressWasVisitedYes\n",
       ":   0.7893PaymentPageWasVisitedYes\n",
       ":   2.0823\n",
       "\n"
      ],
      "text/plain": [
       "                  (Intercept)                          week \n",
       "                       0.1042                        1.0013 \n",
       "      TrafficSourceTypeDirect      TrafficSourceTypeDisplay \n",
       "                       1.8262                        0.7103 \n",
       "       TrafficSourceTypeEmail      TrafficSourceTypeOrganic \n",
       "                       1.1929                        1.0435 \n",
       "      TrafficSourceTypeOthers          TrafficSourceTypePPC \n",
       "                       0.6529                        1.0543 \n",
       "   TrafficSourceTypeReferrals                  DeviceMobile \n",
       "                       0.6311                        0.8537 \n",
       "                 DeviceTablet          VisitorTypeReturning \n",
       "                       0.7163                        1.5181 \n",
       "        HomePageWasVisitedYes      ProductPageWasVisitedYes \n",
       "                       1.2670                        2.9704 \n",
       "VisitToProductAfterListingYes          SiteSearchWasUsedYes \n",
       "                       1.2033                        0.7298 \n",
       "         VisitWithAddtoBagYes     VisitWithAddtoWishlistYes \n",
       "                       1.1651                        0.5017 \n",
       " ShippingAddressWasVisitedYes      PaymentPageWasVisitedYes \n",
       "                       0.7893                        2.0823 "
      ]
     },
     "metadata": {},
     "output_type": "display_data"
    }
   ],
   "source": [
    "round(exp(coef(fit)),digits=4)"
   ]
  },
  {
   "cell_type": "code",
   "execution_count": 47,
   "metadata": {},
   "outputs": [
    {
     "data": {
      "text/html": [
       "1"
      ],
      "text/latex": [
       "1"
      ],
      "text/markdown": [
       "1"
      ],
      "text/plain": [
       "[1] 1"
      ]
     },
     "metadata": {},
     "output_type": "display_data"
    }
   ],
   "source": [
    "fit.od<- glm(myFormula,data = myData, family = quasibinomial())\n",
    "pchisq(summary(fit.od)$dispersion * fit$df.residual,fit$df.residual,lower=F)"
   ]
  },
  {
   "cell_type": "code",
   "execution_count": null,
   "metadata": {},
   "outputs": [],
   "source": [
    "## note:\n",
    "## drive conversion rate per more: TrafficSourceTypeEmail 1.20x, VisitWithAddtoBagYes 1.24x,\n",
    "##                     VisitToProductAfterListing 1.25X, HomePageWasVisited 1.30X,VistorTypeReturning 1.54X,\n",
    "##                     TrafficSourceType-Direct 1.83X,PaymentPageWasVisited 2.19X,ProductPageWasVisited 3.23X\n",
    "## drive conversion rate per less: VisitWithAddtoWishlistYes 0.52x, TrafficSourceTypeReferrals 0.63x,TrafficSourceTypeOthers 0.65x,\n",
    "##                        TrafficSourceTypeDisplay 0.71x,DeviceTablet 0.71x,SiteSearchWasUsedYes 0.73x,\n",
    "##                        ShippingAddressWasVisitedYes 0.81x,DeviceMobile 0.85x  "
   ]
  },
  {
   "cell_type": "code",
   "execution_count": null,
   "metadata": {},
   "outputs": [],
   "source": [
    "#logistics regression filter on mobile"
   ]
  },
  {
   "cell_type": "code",
   "execution_count": 48,
   "metadata": {},
   "outputs": [],
   "source": [
    "myData.m <- filter(myData,Device==\"Mobile\")\n",
    "\n",
    "# remove 3 variables will cause glm overfit\n",
    "myFormula.m <-  ynOrders ~  week + TrafficSourceType + VisitorType + HomePageWasVisited + ProductPageWasVisited + VisitToProductAfterListing + SiteSearchWasUsed + VisitWithAddtoBag + VisitWithAddtoWishlist + ShippingAddressWasVisited + PaymentPageWasVisited\n"
   ]
  },
  {
   "cell_type": "code",
   "execution_count": 49,
   "metadata": {},
   "outputs": [],
   "source": [
    "fit.m <- glm(myFormula.m,data = myData.m, family = binomial())"
   ]
  },
  {
   "cell_type": "code",
   "execution_count": 50,
   "metadata": {},
   "outputs": [
    {
     "data": {
      "text/plain": [
       "\n",
       "Call:\n",
       "glm(formula = myFormula.m, family = binomial(), data = myData.m)\n",
       "\n",
       "Deviance Residuals: \n",
       "    Min       1Q   Median       3Q      Max  \n",
       "-1.6437  -0.8918  -0.6300   1.1930   2.4678  \n",
       "\n",
       "Coefficients:\n",
       "                                Estimate Std. Error z value Pr(>|z|)    \n",
       "(Intercept)                   -2.2775999  0.0499706 -45.579  < 2e-16 ***\n",
       "week                           0.0025251  0.0006374   3.962 7.44e-05 ***\n",
       "TrafficSourceTypeDirect        0.5874847  0.0329055  17.854  < 2e-16 ***\n",
       "TrafficSourceTypeDisplay      -0.4278252  0.0465530  -9.190  < 2e-16 ***\n",
       "TrafficSourceTypeEmail         0.2323542  0.0373099   6.228 4.73e-10 ***\n",
       "TrafficSourceTypeOrganic      -0.0031182  0.0377874  -0.083   0.9342    \n",
       "TrafficSourceTypeOthers       -0.4914690  0.0467913 -10.503  < 2e-16 ***\n",
       "TrafficSourceTypePPC          -0.0725601  0.0376287  -1.928   0.0538 .  \n",
       "TrafficSourceTypeReferrals    -0.4962505  0.0466779 -10.631  < 2e-16 ***\n",
       "VisitorTypeReturning           0.3796791  0.0204953  18.525  < 2e-16 ***\n",
       "HomePageWasVisitedYes          0.1749829  0.0195319   8.959  < 2e-16 ***\n",
       "ProductPageWasVisitedYes       1.1023363  0.0361176  30.521  < 2e-16 ***\n",
       "VisitToProductAfterListingYes  0.1474958  0.0221383   6.662 2.69e-11 ***\n",
       "SiteSearchWasUsedYes          -0.3355436  0.0208763 -16.073  < 2e-16 ***\n",
       "VisitWithAddtoBagYes           0.1037117  0.0208612   4.972 6.64e-07 ***\n",
       "VisitWithAddtoWishlistYes     -0.7718165  0.0236139 -32.685  < 2e-16 ***\n",
       "ShippingAddressWasVisitedYes  -0.2485520  0.0212196 -11.713  < 2e-16 ***\n",
       "PaymentPageWasVisitedYes       0.6967318  0.0206770  33.696  < 2e-16 ***\n",
       "---\n",
       "Signif. codes:  0 '***' 0.001 '**' 0.01 '*' 0.05 '.' 0.1 ' ' 1\n",
       "\n",
       "(Dispersion parameter for binomial family taken to be 1)\n",
       "\n",
       "    Null deviance: 68357  on 54733  degrees of freedom\n",
       "Residual deviance: 62574  on 54716  degrees of freedom\n",
       "AIC: 62610\n",
       "\n",
       "Number of Fisher Scoring iterations: 4\n"
      ]
     },
     "metadata": {},
     "output_type": "display_data"
    }
   ],
   "source": [
    "summary(fit.m)"
   ]
  },
  {
   "cell_type": "code",
   "execution_count": 51,
   "metadata": {},
   "outputs": [
    {
     "data": {
      "text/html": [
       "<dl class=dl-horizontal>\n",
       "\t<dt>(Intercept)</dt>\n",
       "\t\t<dd>0.1025</dd>\n",
       "\t<dt>week</dt>\n",
       "\t\t<dd>1.0025</dd>\n",
       "\t<dt>TrafficSourceTypeDirect</dt>\n",
       "\t\t<dd>1.7995</dd>\n",
       "\t<dt>TrafficSourceTypeDisplay</dt>\n",
       "\t\t<dd>0.6519</dd>\n",
       "\t<dt>TrafficSourceTypeEmail</dt>\n",
       "\t\t<dd>1.2616</dd>\n",
       "\t<dt>TrafficSourceTypeOrganic</dt>\n",
       "\t\t<dd>0.9969</dd>\n",
       "\t<dt>TrafficSourceTypeOthers</dt>\n",
       "\t\t<dd>0.6117</dd>\n",
       "\t<dt>TrafficSourceTypePPC</dt>\n",
       "\t\t<dd>0.93</dd>\n",
       "\t<dt>TrafficSourceTypeReferrals</dt>\n",
       "\t\t<dd>0.6088</dd>\n",
       "\t<dt>VisitorTypeReturning</dt>\n",
       "\t\t<dd>1.4618</dd>\n",
       "\t<dt>HomePageWasVisitedYes</dt>\n",
       "\t\t<dd>1.1912</dd>\n",
       "\t<dt>ProductPageWasVisitedYes</dt>\n",
       "\t\t<dd>3.0112</dd>\n",
       "\t<dt>VisitToProductAfterListingYes</dt>\n",
       "\t\t<dd>1.1589</dd>\n",
       "\t<dt>SiteSearchWasUsedYes</dt>\n",
       "\t\t<dd>0.7149</dd>\n",
       "\t<dt>VisitWithAddtoBagYes</dt>\n",
       "\t\t<dd>1.1093</dd>\n",
       "\t<dt>VisitWithAddtoWishlistYes</dt>\n",
       "\t\t<dd>0.4622</dd>\n",
       "\t<dt>ShippingAddressWasVisitedYes</dt>\n",
       "\t\t<dd>0.7799</dd>\n",
       "\t<dt>PaymentPageWasVisitedYes</dt>\n",
       "\t\t<dd>2.0072</dd>\n",
       "</dl>\n"
      ],
      "text/latex": [
       "\\begin{description*}\n",
       "\\item[(Intercept)] 0.1025\n",
       "\\item[week] 1.0025\n",
       "\\item[TrafficSourceTypeDirect] 1.7995\n",
       "\\item[TrafficSourceTypeDisplay] 0.6519\n",
       "\\item[TrafficSourceTypeEmail] 1.2616\n",
       "\\item[TrafficSourceTypeOrganic] 0.9969\n",
       "\\item[TrafficSourceTypeOthers] 0.6117\n",
       "\\item[TrafficSourceTypePPC] 0.93\n",
       "\\item[TrafficSourceTypeReferrals] 0.6088\n",
       "\\item[VisitorTypeReturning] 1.4618\n",
       "\\item[HomePageWasVisitedYes] 1.1912\n",
       "\\item[ProductPageWasVisitedYes] 3.0112\n",
       "\\item[VisitToProductAfterListingYes] 1.1589\n",
       "\\item[SiteSearchWasUsedYes] 0.7149\n",
       "\\item[VisitWithAddtoBagYes] 1.1093\n",
       "\\item[VisitWithAddtoWishlistYes] 0.4622\n",
       "\\item[ShippingAddressWasVisitedYes] 0.7799\n",
       "\\item[PaymentPageWasVisitedYes] 2.0072\n",
       "\\end{description*}\n"
      ],
      "text/markdown": [
       "(Intercept)\n",
       ":   0.1025week\n",
       ":   1.0025TrafficSourceTypeDirect\n",
       ":   1.7995TrafficSourceTypeDisplay\n",
       ":   0.6519TrafficSourceTypeEmail\n",
       ":   1.2616TrafficSourceTypeOrganic\n",
       ":   0.9969TrafficSourceTypeOthers\n",
       ":   0.6117TrafficSourceTypePPC\n",
       ":   0.93TrafficSourceTypeReferrals\n",
       ":   0.6088VisitorTypeReturning\n",
       ":   1.4618HomePageWasVisitedYes\n",
       ":   1.1912ProductPageWasVisitedYes\n",
       ":   3.0112VisitToProductAfterListingYes\n",
       ":   1.1589SiteSearchWasUsedYes\n",
       ":   0.7149VisitWithAddtoBagYes\n",
       ":   1.1093VisitWithAddtoWishlistYes\n",
       ":   0.4622ShippingAddressWasVisitedYes\n",
       ":   0.7799PaymentPageWasVisitedYes\n",
       ":   2.0072\n",
       "\n"
      ],
      "text/plain": [
       "                  (Intercept)                          week \n",
       "                       0.1025                        1.0025 \n",
       "      TrafficSourceTypeDirect      TrafficSourceTypeDisplay \n",
       "                       1.7995                        0.6519 \n",
       "       TrafficSourceTypeEmail      TrafficSourceTypeOrganic \n",
       "                       1.2616                        0.9969 \n",
       "      TrafficSourceTypeOthers          TrafficSourceTypePPC \n",
       "                       0.6117                        0.9300 \n",
       "   TrafficSourceTypeReferrals          VisitorTypeReturning \n",
       "                       0.6088                        1.4618 \n",
       "        HomePageWasVisitedYes      ProductPageWasVisitedYes \n",
       "                       1.1912                        3.0112 \n",
       "VisitToProductAfterListingYes          SiteSearchWasUsedYes \n",
       "                       1.1589                        0.7149 \n",
       "         VisitWithAddtoBagYes     VisitWithAddtoWishlistYes \n",
       "                       1.1093                        0.4622 \n",
       " ShippingAddressWasVisitedYes      PaymentPageWasVisitedYes \n",
       "                       0.7799                        2.0072 "
      ]
     },
     "metadata": {},
     "output_type": "display_data"
    }
   ],
   "source": [
    "round(exp(coef(fit.m)),digits=4)"
   ]
  },
  {
   "cell_type": "code",
   "execution_count": 54,
   "metadata": {},
   "outputs": [
    {
     "data": {
      "text/plain": [
       "                      ynOrders\n",
       "VisitWithAddtoWishlist    No   Yes\n",
       "                   No  37.41 62.59\n",
       "                   Yes 62.44 37.56"
      ]
     },
     "metadata": {},
     "output_type": "display_data"
    }
   ],
   "source": [
    "# contingence table of VisitWithAddtoWishlist\n",
    "round(prop.table(xtabs(Visits ~VisitWithAddtoWishlist + ynOrders,myData),1),digits=4)* 100"
   ]
  },
  {
   "cell_type": "code",
   "execution_count": null,
   "metadata": {},
   "outputs": [],
   "source": [
    "## note:\n",
    "## VisitWithAddtoWishlist saw low converation"
   ]
  },
  {
   "cell_type": "code",
   "execution_count": 85,
   "metadata": {},
   "outputs": [],
   "source": [
    "df.m <- filter(df.factor,Device==\"Mobile\")"
   ]
  },
  {
   "cell_type": "code",
   "execution_count": 102,
   "metadata": {},
   "outputs": [
    {
     "name": "stdout",
     "output_type": "stream",
     "text": [
      "5% improve on 2016 annual conversion rate, new Mobile Converaton Rate(%):"
     ]
    },
    {
     "data": {
      "text/html": [
       "0.68"
      ],
      "text/latex": [
       "0.68"
      ],
      "text/markdown": [
       "0.68"
      ],
      "text/plain": [
       "[1] 0.68"
      ]
     },
     "metadata": {},
     "output_type": "display_data"
    },
    {
     "name": "stdout",
     "output_type": "stream",
     "text": [
      "Mobile Average Order Value (same with 2016):"
     ]
    },
    {
     "data": {
      "text/html": [
       "663.14"
      ],
      "text/latex": [
       "663.14"
      ],
      "text/markdown": [
       "663.14"
      ],
      "text/plain": [
       "[1] 663.14"
      ]
     },
     "metadata": {},
     "output_type": "display_data"
    },
    {
     "name": "stdout",
     "output_type": "stream",
     "text": [
      "Revenue Increase:"
     ]
    },
    {
     "data": {
      "text/html": [
       "3322649"
      ],
      "text/latex": [
       "3322649"
      ],
      "text/markdown": [
       "3322649"
      ],
      "text/plain": [
       "[1] 3322649"
      ]
     },
     "metadata": {},
     "output_type": "display_data"
    }
   ],
   "source": [
    "m.Visits <- sum(df.m$Visits)\n",
    "m.CoR <- sum(df.m$Orders)/sum(df.m$Visits)*100\n",
    "m.AoV <- sum(df.m$Revenue)/sum(df.m$Orders)\n",
    "# increase mobile conversion by 5%, estimate revenue increase\n",
    "cat(\"5% improve on 2016 annual conversion rate, new Mobile Converaton Rate(%):\")\n",
    "round(m.CoR * 1.05,digits=2)\n",
    "cat(\"Mobile Average Order Value (same with 2016):\")\n",
    "round(m.AoV,digits=2)\n",
    "cat(\"Revenue Increase:\")\n",
    "round(sum(df.m$Revenue) * 0.05,digits=0)"
   ]
  }
 ],
 "metadata": {
  "kernelspec": {
   "display_name": "R",
   "language": "R",
   "name": "ir"
  },
  "language_info": {
   "codemirror_mode": "r",
   "file_extension": ".r",
   "mimetype": "text/x-r-source",
   "name": "R",
   "pygments_lexer": "r",
   "version": "3.4.3"
  }
 },
 "nbformat": 4,
 "nbformat_minor": 2
}
